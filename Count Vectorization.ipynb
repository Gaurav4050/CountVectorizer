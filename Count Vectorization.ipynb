{
 "cells": [
  {
   "cell_type": "code",
   "execution_count": 20,
   "id": "58793cd4",
   "metadata": {},
   "outputs": [],
   "source": [
    "paragraph='I liek to play football. hi gaurav! did you play outside? john and i play tennis'"
   ]
  },
  {
   "cell_type": "code",
   "execution_count": 2,
   "id": "8600903d",
   "metadata": {},
   "outputs": [],
   "source": [
    "import nltk"
   ]
  },
  {
   "cell_type": "code",
   "execution_count": 4,
   "id": "9d562a53",
   "metadata": {},
   "outputs": [],
   "source": [
    "import pandas as pd"
   ]
  },
  {
   "cell_type": "code",
   "execution_count": 7,
   "id": "8b31c547",
   "metadata": {},
   "outputs": [],
   "source": [
    "from sklearn.feature_extraction.text import CountVectorizer"
   ]
  },
  {
   "cell_type": "code",
   "execution_count": 8,
   "id": "e241c924",
   "metadata": {},
   "outputs": [],
   "source": [
    "#inilize counter verctorizer"
   ]
  },
  {
   "cell_type": "code",
   "execution_count": 9,
   "id": "ee245a7a",
   "metadata": {},
   "outputs": [],
   "source": [
    "cv = CountVectorizer()"
   ]
  },
  {
   "cell_type": "code",
   "execution_count": 10,
   "id": "6c07e3dc",
   "metadata": {},
   "outputs": [],
   "source": [
    "from nltk import tokenize"
   ]
  },
  {
   "cell_type": "code",
   "execution_count": 13,
   "id": "3c8870f3",
   "metadata": {},
   "outputs": [
    {
     "name": "stderr",
     "output_type": "stream",
     "text": [
      "[nltk_data] Downloading package punkt to\n",
      "[nltk_data]     C:\\Users\\Hp\\AppData\\Roaming\\nltk_data...\n",
      "[nltk_data]   Unzipping tokenizers\\punkt.zip.\n"
     ]
    },
    {
     "data": {
      "text/plain": [
       "True"
      ]
     },
     "execution_count": 13,
     "metadata": {},
     "output_type": "execute_result"
    }
   ],
   "source": [
    "nltk.download('punkt')"
   ]
  },
  {
   "cell_type": "code",
   "execution_count": 21,
   "id": "16d68be9",
   "metadata": {},
   "outputs": [],
   "source": [
    "sentences = nltk.sent_tokenize(paragraph)"
   ]
  },
  {
   "cell_type": "code",
   "execution_count": 22,
   "id": "ffd1889a",
   "metadata": {},
   "outputs": [
    {
     "data": {
      "text/plain": [
       "['I liek to play football.',\n",
       " 'hi gaurav!',\n",
       " 'did you play outside?',\n",
       " 'john and i play tennis']"
      ]
     },
     "execution_count": 22,
     "metadata": {},
     "output_type": "execute_result"
    }
   ],
   "source": [
    "sentences"
   ]
  },
  {
   "cell_type": "code",
   "execution_count": 23,
   "id": "f3a2924e",
   "metadata": {},
   "outputs": [],
   "source": [
    "#let's remove stop words"
   ]
  },
  {
   "cell_type": "code",
   "execution_count": 24,
   "id": "d639aa10",
   "metadata": {},
   "outputs": [],
   "source": [
    "from nltk.corpus import stopwords"
   ]
  },
  {
   "cell_type": "code",
   "execution_count": 25,
   "id": "ad76fcba",
   "metadata": {},
   "outputs": [
    {
     "name": "stderr",
     "output_type": "stream",
     "text": [
      "[nltk_data] Downloading package stopwords to\n",
      "[nltk_data]     C:\\Users\\Hp\\AppData\\Roaming\\nltk_data...\n",
      "[nltk_data]   Unzipping corpora\\stopwords.zip.\n"
     ]
    },
    {
     "data": {
      "text/plain": [
       "True"
      ]
     },
     "execution_count": 25,
     "metadata": {},
     "output_type": "execute_result"
    }
   ],
   "source": [
    "# Download NLTK stopwords data (if not already downloaded)\n",
    "nltk.download(\"stopwords\")"
   ]
  },
  {
   "cell_type": "code",
   "execution_count": 27,
   "id": "04bc1652",
   "metadata": {},
   "outputs": [],
   "source": [
    "words = nltk.word_tokenize(paragraph)"
   ]
  },
  {
   "cell_type": "code",
   "execution_count": 29,
   "id": "015848b9",
   "metadata": {},
   "outputs": [
    {
     "data": {
      "text/plain": [
       "['I',\n",
       " 'liek',\n",
       " 'to',\n",
       " 'play',\n",
       " 'football',\n",
       " '.',\n",
       " 'hi',\n",
       " 'gaurav',\n",
       " '!',\n",
       " 'did',\n",
       " 'you',\n",
       " 'play',\n",
       " 'outside',\n",
       " '?',\n",
       " 'john',\n",
       " 'and',\n",
       " 'i',\n",
       " 'play',\n",
       " 'tennis']"
      ]
     },
     "execution_count": 29,
     "metadata": {},
     "output_type": "execute_result"
    }
   ],
   "source": [
    "words"
   ]
  },
  {
   "cell_type": "code",
   "execution_count": 43,
   "id": "6a59d6a1",
   "metadata": {},
   "outputs": [],
   "source": [
    "X=cv.fit(sentences)"
   ]
  },
  {
   "cell_type": "code",
   "execution_count": 33,
   "id": "43f52467",
   "metadata": {},
   "outputs": [
    {
     "data": {
      "text/plain": [
       "CountVectorizer()"
      ]
     },
     "execution_count": 33,
     "metadata": {},
     "output_type": "execute_result"
    }
   ],
   "source": [
    "X."
   ]
  },
  {
   "cell_type": "code",
   "execution_count": 44,
   "id": "12ae8953",
   "metadata": {},
   "outputs": [],
   "source": [
    "col=X.get_feature_names()"
   ]
  },
  {
   "cell_type": "code",
   "execution_count": 49,
   "id": "070d0cd7",
   "metadata": {},
   "outputs": [
    {
     "data": {
      "text/plain": [
       "['and',\n",
       " 'did',\n",
       " 'football',\n",
       " 'gaurav',\n",
       " 'hi',\n",
       " 'john',\n",
       " 'liek',\n",
       " 'outside',\n",
       " 'play',\n",
       " 'tennis',\n",
       " 'to',\n",
       " 'you']"
      ]
     },
     "execution_count": 49,
     "metadata": {},
     "output_type": "execute_result"
    }
   ],
   "source": [
    "col"
   ]
  },
  {
   "cell_type": "code",
   "execution_count": 39,
   "id": "b962563b",
   "metadata": {},
   "outputs": [],
   "source": [
    "X=cv.transform(sentences)"
   ]
  },
  {
   "cell_type": "code",
   "execution_count": 41,
   "id": "1b78f56b",
   "metadata": {},
   "outputs": [],
   "source": [
    "row=X.toarray()"
   ]
  },
  {
   "cell_type": "code",
   "execution_count": 48,
   "id": "0ab527d2",
   "metadata": {},
   "outputs": [
    {
     "data": {
      "text/plain": [
       "array([[0, 0, 1, 0, 0, 0, 1, 0, 1, 0, 1, 0],\n",
       "       [0, 0, 0, 1, 1, 0, 0, 0, 0, 0, 0, 0],\n",
       "       [0, 1, 0, 0, 0, 0, 0, 1, 1, 0, 0, 1],\n",
       "       [1, 0, 0, 0, 0, 1, 0, 0, 1, 1, 0, 0]], dtype=int64)"
      ]
     },
     "execution_count": 48,
     "metadata": {},
     "output_type": "execute_result"
    }
   ],
   "source": [
    "row"
   ]
  },
  {
   "cell_type": "code",
   "execution_count": 46,
   "id": "c9a7d51a",
   "metadata": {},
   "outputs": [],
   "source": [
    "df=pd.DataFrame(row,columns=col)"
   ]
  },
  {
   "cell_type": "code",
   "execution_count": 47,
   "id": "2563245a",
   "metadata": {
    "scrolled": true
   },
   "outputs": [
    {
     "data": {
      "text/html": [
       "<div>\n",
       "<style scoped>\n",
       "    .dataframe tbody tr th:only-of-type {\n",
       "        vertical-align: middle;\n",
       "    }\n",
       "\n",
       "    .dataframe tbody tr th {\n",
       "        vertical-align: top;\n",
       "    }\n",
       "\n",
       "    .dataframe thead th {\n",
       "        text-align: right;\n",
       "    }\n",
       "</style>\n",
       "<table border=\"1\" class=\"dataframe\">\n",
       "  <thead>\n",
       "    <tr style=\"text-align: right;\">\n",
       "      <th></th>\n",
       "      <th>and</th>\n",
       "      <th>did</th>\n",
       "      <th>football</th>\n",
       "      <th>gaurav</th>\n",
       "      <th>hi</th>\n",
       "      <th>john</th>\n",
       "      <th>liek</th>\n",
       "      <th>outside</th>\n",
       "      <th>play</th>\n",
       "      <th>tennis</th>\n",
       "      <th>to</th>\n",
       "      <th>you</th>\n",
       "    </tr>\n",
       "  </thead>\n",
       "  <tbody>\n",
       "    <tr>\n",
       "      <th>0</th>\n",
       "      <td>0</td>\n",
       "      <td>0</td>\n",
       "      <td>1</td>\n",
       "      <td>0</td>\n",
       "      <td>0</td>\n",
       "      <td>0</td>\n",
       "      <td>1</td>\n",
       "      <td>0</td>\n",
       "      <td>1</td>\n",
       "      <td>0</td>\n",
       "      <td>1</td>\n",
       "      <td>0</td>\n",
       "    </tr>\n",
       "    <tr>\n",
       "      <th>1</th>\n",
       "      <td>0</td>\n",
       "      <td>0</td>\n",
       "      <td>0</td>\n",
       "      <td>1</td>\n",
       "      <td>1</td>\n",
       "      <td>0</td>\n",
       "      <td>0</td>\n",
       "      <td>0</td>\n",
       "      <td>0</td>\n",
       "      <td>0</td>\n",
       "      <td>0</td>\n",
       "      <td>0</td>\n",
       "    </tr>\n",
       "    <tr>\n",
       "      <th>2</th>\n",
       "      <td>0</td>\n",
       "      <td>1</td>\n",
       "      <td>0</td>\n",
       "      <td>0</td>\n",
       "      <td>0</td>\n",
       "      <td>0</td>\n",
       "      <td>0</td>\n",
       "      <td>1</td>\n",
       "      <td>1</td>\n",
       "      <td>0</td>\n",
       "      <td>0</td>\n",
       "      <td>1</td>\n",
       "    </tr>\n",
       "    <tr>\n",
       "      <th>3</th>\n",
       "      <td>1</td>\n",
       "      <td>0</td>\n",
       "      <td>0</td>\n",
       "      <td>0</td>\n",
       "      <td>0</td>\n",
       "      <td>1</td>\n",
       "      <td>0</td>\n",
       "      <td>0</td>\n",
       "      <td>1</td>\n",
       "      <td>1</td>\n",
       "      <td>0</td>\n",
       "      <td>0</td>\n",
       "    </tr>\n",
       "  </tbody>\n",
       "</table>\n",
       "</div>"
      ],
      "text/plain": [
       "   and  did  football  gaurav  hi  john  liek  outside  play  tennis  to  you\n",
       "0    0    0         1       0   0     0     1        0     1       0   1    0\n",
       "1    0    0         0       1   1     0     0        0     0       0   0    0\n",
       "2    0    1         0       0   0     0     0        1     1       0   0    1\n",
       "3    1    0         0       0   0     1     0        0     1       1   0    0"
      ]
     },
     "execution_count": 47,
     "metadata": {},
     "output_type": "execute_result"
    }
   ],
   "source": [
    "df"
   ]
  },
  {
   "cell_type": "code",
   "execution_count": null,
   "id": "9533ca18",
   "metadata": {},
   "outputs": [],
   "source": []
  }
 ],
 "metadata": {
  "kernelspec": {
   "display_name": "Python 3 (ipykernel)",
   "language": "python",
   "name": "python3"
  },
  "language_info": {
   "codemirror_mode": {
    "name": "ipython",
    "version": 3
   },
   "file_extension": ".py",
   "mimetype": "text/x-python",
   "name": "python",
   "nbconvert_exporter": "python",
   "pygments_lexer": "ipython3",
   "version": "3.9.7"
  }
 },
 "nbformat": 4,
 "nbformat_minor": 5
}
